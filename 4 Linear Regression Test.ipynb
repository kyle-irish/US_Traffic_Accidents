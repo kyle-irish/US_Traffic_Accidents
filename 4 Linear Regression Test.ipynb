{
 "cells": [
  {
   "cell_type": "markdown",
   "id": "8391fabb",
   "metadata": {},
   "source": [
    "## Table of Contents\n",
    "\n",
    "1) Importing libraries and data\n",
    "\n",
    "2) Data cleaning\n",
    "\n",
    "3) Data prep for regression analysis\n",
    "\n",
    "4) Regression analysis\n",
    "\n",
    "5) Export data"
   ]
  },
  {
   "cell_type": "markdown",
   "id": "c4f25738",
   "metadata": {},
   "source": [
    "### 1\n",
    "Importing libraries and data"
   ]
  },
  {
   "cell_type": "code",
   "execution_count": 1,
   "id": "ab5d9fc4",
   "metadata": {},
   "outputs": [],
   "source": [
    "import pandas as pd\n",
    "import numpy as np\n",
    "import seaborn as sns\n",
    "import matplotlib\n",
    "import matplotlib.pyplot as plt\n",
    "import os\n",
    "import sklearn\n",
    "from sklearn.model_selection import train_test_split \n",
    "from sklearn.linear_model import LinearRegression\n",
    "from sklearn.metrics import mean_squared_error, r2_score"
   ]
  },
  {
   "cell_type": "code",
   "execution_count": 2,
   "id": "090f253e",
   "metadata": {},
   "outputs": [],
   "source": [
    "#define path\n",
    "path = r'C:\\Users\\Owner\\Documents\\Career Foundry\\Tasks\\Data Immersion Tasks\\Traffic Project\\Data'"
   ]
  },
  {
   "cell_type": "code",
   "execution_count": 3,
   "id": "efbadb7a",
   "metadata": {},
   "outputs": [],
   "source": [
    "#import traffic data\n",
    "traffic = pd.read_csv(os.path.join(path, 'Prepared', 'v3_data_post_geospatial_explore.csv'))"
   ]
  },
  {
   "cell_type": "code",
   "execution_count": 4,
   "id": "27aa48a9",
   "metadata": {},
   "outputs": [
    {
     "data": {
      "text/plain": [
       "(2558522, 50)"
      ]
     },
     "execution_count": 4,
     "metadata": {},
     "output_type": "execute_result"
    }
   ],
   "source": [
    "traffic.shape"
   ]
  },
  {
   "cell_type": "code",
   "execution_count": 5,
   "id": "63652c03",
   "metadata": {},
   "outputs": [
    {
     "data": {
      "text/html": [
       "<div>\n",
       "<style scoped>\n",
       "    .dataframe tbody tr th:only-of-type {\n",
       "        vertical-align: middle;\n",
       "    }\n",
       "\n",
       "    .dataframe tbody tr th {\n",
       "        vertical-align: top;\n",
       "    }\n",
       "\n",
       "    .dataframe thead th {\n",
       "        text-align: right;\n",
       "    }\n",
       "</style>\n",
       "<table border=\"1\" class=\"dataframe\">\n",
       "  <thead>\n",
       "    <tr style=\"text-align: right;\">\n",
       "      <th></th>\n",
       "      <th>Unnamed: 0</th>\n",
       "      <th>ID</th>\n",
       "      <th>Severity</th>\n",
       "      <th>Start_Time</th>\n",
       "      <th>End_Time</th>\n",
       "      <th>Start_Lat</th>\n",
       "      <th>Start_Lng</th>\n",
       "      <th>End_Lat</th>\n",
       "      <th>End_Lng</th>\n",
       "      <th>Distance(mi)</th>\n",
       "      <th>Description</th>\n",
       "      <th>Number</th>\n",
       "      <th>Street</th>\n",
       "      <th>Side</th>\n",
       "      <th>City</th>\n",
       "      <th>County</th>\n",
       "      <th>Zipcode</th>\n",
       "      <th>Timezone</th>\n",
       "      <th>Airport_Code</th>\n",
       "      <th>Weather_Timestamp</th>\n",
       "      <th>Temperature(F)</th>\n",
       "      <th>Humidity(%)</th>\n",
       "      <th>Pressure(in)</th>\n",
       "      <th>Visibility(mi)</th>\n",
       "      <th>Wind_Direction</th>\n",
       "      <th>Wind_Speed(mph)</th>\n",
       "      <th>Precipitation(in)</th>\n",
       "      <th>Weather_Condition</th>\n",
       "      <th>Amenity</th>\n",
       "      <th>Bump</th>\n",
       "      <th>Crossing</th>\n",
       "      <th>Give_Way</th>\n",
       "      <th>Junction</th>\n",
       "      <th>No_Exit</th>\n",
       "      <th>Railway</th>\n",
       "      <th>Roundabout</th>\n",
       "      <th>Station</th>\n",
       "      <th>Stop</th>\n",
       "      <th>Traffic_Calming</th>\n",
       "      <th>Traffic_Signal</th>\n",
       "      <th>Turning_Loop</th>\n",
       "      <th>start_date</th>\n",
       "      <th>start_time</th>\n",
       "      <th>time_of_day</th>\n",
       "      <th>acdnt_per_day</th>\n",
       "      <th>state</th>\n",
       "      <th>avg_state_sev</th>\n",
       "      <th>avg_state_temp</th>\n",
       "      <th>avg_state_rain</th>\n",
       "      <th>avg_state_acdnt_per_day</th>\n",
       "    </tr>\n",
       "  </thead>\n",
       "  <tbody>\n",
       "    <tr>\n",
       "      <th>0</th>\n",
       "      <td>0</td>\n",
       "      <td>A-1</td>\n",
       "      <td>2</td>\n",
       "      <td>2019-05-21 08:29:55</td>\n",
       "      <td>2019-05-21 09:29:40</td>\n",
       "      <td>34.808868</td>\n",
       "      <td>-82.269157</td>\n",
       "      <td>34.808868</td>\n",
       "      <td>-82.269157</td>\n",
       "      <td>0.0</td>\n",
       "      <td>Accident on Tanner Rd at Pennbrooke Ln.</td>\n",
       "      <td>439.0</td>\n",
       "      <td>Tanner Rd</td>\n",
       "      <td>R</td>\n",
       "      <td>Greenville</td>\n",
       "      <td>Greenville</td>\n",
       "      <td>29607-6027</td>\n",
       "      <td>US/Eastern</td>\n",
       "      <td>KGMU</td>\n",
       "      <td>2019-05-21 08:53:00</td>\n",
       "      <td>76.0</td>\n",
       "      <td>52.0</td>\n",
       "      <td>28.91</td>\n",
       "      <td>10.0</td>\n",
       "      <td>N</td>\n",
       "      <td>7.0</td>\n",
       "      <td>0.0</td>\n",
       "      <td>Fair</td>\n",
       "      <td>False</td>\n",
       "      <td>False</td>\n",
       "      <td>False</td>\n",
       "      <td>False</td>\n",
       "      <td>False</td>\n",
       "      <td>False</td>\n",
       "      <td>False</td>\n",
       "      <td>False</td>\n",
       "      <td>False</td>\n",
       "      <td>False</td>\n",
       "      <td>False</td>\n",
       "      <td>False</td>\n",
       "      <td>False</td>\n",
       "      <td>2019-05-21</td>\n",
       "      <td>08:29:55</td>\n",
       "      <td>Morning</td>\n",
       "      <td>1693</td>\n",
       "      <td>South Carolina</td>\n",
       "      <td>2.172651</td>\n",
       "      <td>64.663102</td>\n",
       "      <td>0.006040</td>\n",
       "      <td>64.104680</td>\n",
       "    </tr>\n",
       "    <tr>\n",
       "      <th>1</th>\n",
       "      <td>1</td>\n",
       "      <td>A-2</td>\n",
       "      <td>2</td>\n",
       "      <td>2019-10-07 17:43:09</td>\n",
       "      <td>2019-10-07 19:42:50</td>\n",
       "      <td>35.090080</td>\n",
       "      <td>-80.745560</td>\n",
       "      <td>35.090080</td>\n",
       "      <td>-80.745560</td>\n",
       "      <td>0.0</td>\n",
       "      <td>Accident on Houston Branch Rd at Providence Br...</td>\n",
       "      <td>3299.0</td>\n",
       "      <td>Providence Branch Ln</td>\n",
       "      <td>R</td>\n",
       "      <td>Charlotte</td>\n",
       "      <td>Mecklenburg</td>\n",
       "      <td>28270-8560</td>\n",
       "      <td>US/Eastern</td>\n",
       "      <td>KEQY</td>\n",
       "      <td>2019-10-07 17:53:00</td>\n",
       "      <td>76.0</td>\n",
       "      <td>62.0</td>\n",
       "      <td>29.30</td>\n",
       "      <td>10.0</td>\n",
       "      <td>VAR</td>\n",
       "      <td>3.0</td>\n",
       "      <td>0.0</td>\n",
       "      <td>Cloudy</td>\n",
       "      <td>False</td>\n",
       "      <td>False</td>\n",
       "      <td>False</td>\n",
       "      <td>False</td>\n",
       "      <td>False</td>\n",
       "      <td>False</td>\n",
       "      <td>False</td>\n",
       "      <td>False</td>\n",
       "      <td>False</td>\n",
       "      <td>False</td>\n",
       "      <td>False</td>\n",
       "      <td>False</td>\n",
       "      <td>False</td>\n",
       "      <td>2019-10-07</td>\n",
       "      <td>17:43:09</td>\n",
       "      <td>Evening</td>\n",
       "      <td>2450</td>\n",
       "      <td>North Carolina</td>\n",
       "      <td>2.147315</td>\n",
       "      <td>63.247137</td>\n",
       "      <td>0.006803</td>\n",
       "      <td>67.104506</td>\n",
       "    </tr>\n",
       "    <tr>\n",
       "      <th>2</th>\n",
       "      <td>2</td>\n",
       "      <td>A-3</td>\n",
       "      <td>2</td>\n",
       "      <td>2020-12-13 21:53:00</td>\n",
       "      <td>2020-12-13 22:44:00</td>\n",
       "      <td>37.145730</td>\n",
       "      <td>-121.985052</td>\n",
       "      <td>37.165850</td>\n",
       "      <td>-121.988062</td>\n",
       "      <td>1.4</td>\n",
       "      <td>Stationary traffic on CA-17 from Summit Rd (CA...</td>\n",
       "      <td>NaN</td>\n",
       "      <td>Santa Cruz Hwy</td>\n",
       "      <td>R</td>\n",
       "      <td>Los Gatos</td>\n",
       "      <td>Santa Clara</td>\n",
       "      <td>95033</td>\n",
       "      <td>US/Pacific</td>\n",
       "      <td>KSJC</td>\n",
       "      <td>2020-12-13 21:53:00</td>\n",
       "      <td>51.0</td>\n",
       "      <td>80.0</td>\n",
       "      <td>30.17</td>\n",
       "      <td>10.0</td>\n",
       "      <td>W</td>\n",
       "      <td>6.0</td>\n",
       "      <td>0.0</td>\n",
       "      <td>Fair</td>\n",
       "      <td>False</td>\n",
       "      <td>False</td>\n",
       "      <td>False</td>\n",
       "      <td>False</td>\n",
       "      <td>False</td>\n",
       "      <td>False</td>\n",
       "      <td>False</td>\n",
       "      <td>False</td>\n",
       "      <td>False</td>\n",
       "      <td>False</td>\n",
       "      <td>False</td>\n",
       "      <td>False</td>\n",
       "      <td>False</td>\n",
       "      <td>2020-12-13</td>\n",
       "      <td>21:53:00</td>\n",
       "      <td>Night</td>\n",
       "      <td>5467</td>\n",
       "      <td>California</td>\n",
       "      <td>2.182810</td>\n",
       "      <td>64.206544</td>\n",
       "      <td>0.003010</td>\n",
       "      <td>361.961450</td>\n",
       "    </tr>\n",
       "    <tr>\n",
       "      <th>3</th>\n",
       "      <td>3</td>\n",
       "      <td>A-4</td>\n",
       "      <td>2</td>\n",
       "      <td>2018-04-17 16:51:23</td>\n",
       "      <td>2018-04-17 17:50:46</td>\n",
       "      <td>39.110390</td>\n",
       "      <td>-119.773781</td>\n",
       "      <td>39.110390</td>\n",
       "      <td>-119.773781</td>\n",
       "      <td>0.0</td>\n",
       "      <td>Accident on US-395 Southbound at Topsy Ln.</td>\n",
       "      <td>NaN</td>\n",
       "      <td>US Highway 395 S</td>\n",
       "      <td>R</td>\n",
       "      <td>Carson City</td>\n",
       "      <td>Douglas</td>\n",
       "      <td>89705</td>\n",
       "      <td>US/Pacific</td>\n",
       "      <td>KCXP</td>\n",
       "      <td>2018-04-17 16:55:00</td>\n",
       "      <td>53.6</td>\n",
       "      <td>16.0</td>\n",
       "      <td>30.16</td>\n",
       "      <td>10.0</td>\n",
       "      <td>SSW</td>\n",
       "      <td>4.6</td>\n",
       "      <td>0.0</td>\n",
       "      <td>Clear</td>\n",
       "      <td>False</td>\n",
       "      <td>False</td>\n",
       "      <td>False</td>\n",
       "      <td>False</td>\n",
       "      <td>False</td>\n",
       "      <td>False</td>\n",
       "      <td>False</td>\n",
       "      <td>False</td>\n",
       "      <td>False</td>\n",
       "      <td>False</td>\n",
       "      <td>False</td>\n",
       "      <td>True</td>\n",
       "      <td>False</td>\n",
       "      <td>2018-04-17</td>\n",
       "      <td>16:51:23</td>\n",
       "      <td>Evening</td>\n",
       "      <td>1626</td>\n",
       "      <td>Nevada</td>\n",
       "      <td>2.346195</td>\n",
       "      <td>62.241654</td>\n",
       "      <td>0.001130</td>\n",
       "      <td>4.816372</td>\n",
       "    </tr>\n",
       "    <tr>\n",
       "      <th>4</th>\n",
       "      <td>4</td>\n",
       "      <td>A-5</td>\n",
       "      <td>3</td>\n",
       "      <td>2016-08-31 17:40:49</td>\n",
       "      <td>2016-08-31 18:10:49</td>\n",
       "      <td>26.102942</td>\n",
       "      <td>-80.265091</td>\n",
       "      <td>26.102942</td>\n",
       "      <td>-80.265091</td>\n",
       "      <td>0.0</td>\n",
       "      <td>Accident on I-595 Westbound at Exit 4 / Pine I...</td>\n",
       "      <td>NaN</td>\n",
       "      <td>I-595 W</td>\n",
       "      <td>R</td>\n",
       "      <td>Fort Lauderdale</td>\n",
       "      <td>Broward</td>\n",
       "      <td>33324</td>\n",
       "      <td>US/Eastern</td>\n",
       "      <td>KHWO</td>\n",
       "      <td>2016-08-31 17:53:00</td>\n",
       "      <td>84.2</td>\n",
       "      <td>84.0</td>\n",
       "      <td>29.92</td>\n",
       "      <td>10.0</td>\n",
       "      <td>SSE</td>\n",
       "      <td>13.8</td>\n",
       "      <td>0.0</td>\n",
       "      <td>Overcast</td>\n",
       "      <td>False</td>\n",
       "      <td>False</td>\n",
       "      <td>False</td>\n",
       "      <td>False</td>\n",
       "      <td>True</td>\n",
       "      <td>False</td>\n",
       "      <td>False</td>\n",
       "      <td>False</td>\n",
       "      <td>False</td>\n",
       "      <td>False</td>\n",
       "      <td>False</td>\n",
       "      <td>True</td>\n",
       "      <td>False</td>\n",
       "      <td>2016-08-31</td>\n",
       "      <td>17:40:49</td>\n",
       "      <td>Evening</td>\n",
       "      <td>1250</td>\n",
       "      <td>Florida</td>\n",
       "      <td>2.238960</td>\n",
       "      <td>74.721026</td>\n",
       "      <td>0.008045</td>\n",
       "      <td>147.670296</td>\n",
       "    </tr>\n",
       "  </tbody>\n",
       "</table>\n",
       "</div>"
      ],
      "text/plain": [
       "   Unnamed: 0   ID  Severity           Start_Time             End_Time  \\\n",
       "0           0  A-1         2  2019-05-21 08:29:55  2019-05-21 09:29:40   \n",
       "1           1  A-2         2  2019-10-07 17:43:09  2019-10-07 19:42:50   \n",
       "2           2  A-3         2  2020-12-13 21:53:00  2020-12-13 22:44:00   \n",
       "3           3  A-4         2  2018-04-17 16:51:23  2018-04-17 17:50:46   \n",
       "4           4  A-5         3  2016-08-31 17:40:49  2016-08-31 18:10:49   \n",
       "\n",
       "   Start_Lat   Start_Lng    End_Lat     End_Lng  Distance(mi)  \\\n",
       "0  34.808868  -82.269157  34.808868  -82.269157           0.0   \n",
       "1  35.090080  -80.745560  35.090080  -80.745560           0.0   \n",
       "2  37.145730 -121.985052  37.165850 -121.988062           1.4   \n",
       "3  39.110390 -119.773781  39.110390 -119.773781           0.0   \n",
       "4  26.102942  -80.265091  26.102942  -80.265091           0.0   \n",
       "\n",
       "                                         Description  Number  \\\n",
       "0            Accident on Tanner Rd at Pennbrooke Ln.   439.0   \n",
       "1  Accident on Houston Branch Rd at Providence Br...  3299.0   \n",
       "2  Stationary traffic on CA-17 from Summit Rd (CA...     NaN   \n",
       "3         Accident on US-395 Southbound at Topsy Ln.     NaN   \n",
       "4  Accident on I-595 Westbound at Exit 4 / Pine I...     NaN   \n",
       "\n",
       "                 Street Side             City       County     Zipcode  \\\n",
       "0             Tanner Rd    R       Greenville   Greenville  29607-6027   \n",
       "1  Providence Branch Ln    R        Charlotte  Mecklenburg  28270-8560   \n",
       "2        Santa Cruz Hwy    R        Los Gatos  Santa Clara       95033   \n",
       "3      US Highway 395 S    R      Carson City      Douglas       89705   \n",
       "4               I-595 W    R  Fort Lauderdale      Broward       33324   \n",
       "\n",
       "     Timezone Airport_Code    Weather_Timestamp  Temperature(F)  Humidity(%)  \\\n",
       "0  US/Eastern         KGMU  2019-05-21 08:53:00            76.0         52.0   \n",
       "1  US/Eastern         KEQY  2019-10-07 17:53:00            76.0         62.0   \n",
       "2  US/Pacific         KSJC  2020-12-13 21:53:00            51.0         80.0   \n",
       "3  US/Pacific         KCXP  2018-04-17 16:55:00            53.6         16.0   \n",
       "4  US/Eastern         KHWO  2016-08-31 17:53:00            84.2         84.0   \n",
       "\n",
       "   Pressure(in)  Visibility(mi) Wind_Direction  Wind_Speed(mph)  \\\n",
       "0         28.91            10.0              N              7.0   \n",
       "1         29.30            10.0            VAR              3.0   \n",
       "2         30.17            10.0              W              6.0   \n",
       "3         30.16            10.0            SSW              4.6   \n",
       "4         29.92            10.0            SSE             13.8   \n",
       "\n",
       "   Precipitation(in) Weather_Condition  Amenity   Bump  Crossing  Give_Way  \\\n",
       "0                0.0              Fair    False  False     False     False   \n",
       "1                0.0            Cloudy    False  False     False     False   \n",
       "2                0.0              Fair    False  False     False     False   \n",
       "3                0.0             Clear    False  False     False     False   \n",
       "4                0.0          Overcast    False  False     False     False   \n",
       "\n",
       "   Junction  No_Exit  Railway  Roundabout  Station   Stop  Traffic_Calming  \\\n",
       "0     False    False    False       False    False  False            False   \n",
       "1     False    False    False       False    False  False            False   \n",
       "2     False    False    False       False    False  False            False   \n",
       "3     False    False    False       False    False  False            False   \n",
       "4      True    False    False       False    False  False            False   \n",
       "\n",
       "   Traffic_Signal  Turning_Loop  start_date start_time time_of_day  \\\n",
       "0           False         False  2019-05-21   08:29:55     Morning   \n",
       "1           False         False  2019-10-07   17:43:09     Evening   \n",
       "2           False         False  2020-12-13   21:53:00       Night   \n",
       "3            True         False  2018-04-17   16:51:23     Evening   \n",
       "4            True         False  2016-08-31   17:40:49     Evening   \n",
       "\n",
       "   acdnt_per_day           state  avg_state_sev  avg_state_temp  \\\n",
       "0           1693  South Carolina       2.172651       64.663102   \n",
       "1           2450  North Carolina       2.147315       63.247137   \n",
       "2           5467      California       2.182810       64.206544   \n",
       "3           1626          Nevada       2.346195       62.241654   \n",
       "4           1250         Florida       2.238960       74.721026   \n",
       "\n",
       "   avg_state_rain  avg_state_acdnt_per_day  \n",
       "0        0.006040                64.104680  \n",
       "1        0.006803                67.104506  \n",
       "2        0.003010               361.961450  \n",
       "3        0.001130                 4.816372  \n",
       "4        0.008045               147.670296  "
      ]
     },
     "execution_count": 5,
     "metadata": {},
     "output_type": "execute_result"
    }
   ],
   "source": [
    "pd.set_option(\"display.max_columns\", None)\n",
    "traffic.head()"
   ]
  },
  {
   "cell_type": "code",
   "execution_count": 6,
   "id": "5316f36d",
   "metadata": {},
   "outputs": [],
   "source": [
    "#drop the extra index column\n",
    "traffic = traffic.drop(columns = 'Unnamed: 0')"
   ]
  },
  {
   "cell_type": "markdown",
   "id": "bf49eeb1",
   "metadata": {},
   "source": [
    "### 2\n",
    "Data cleaning"
   ]
  },
  {
   "cell_type": "code",
   "execution_count": 7,
   "id": "ca476ad1",
   "metadata": {},
   "outputs": [
    {
     "data": {
      "text/plain": [
       "ID                               0\n",
       "Severity                         0\n",
       "Start_Time                       0\n",
       "End_Time                         0\n",
       "Start_Lat                        0\n",
       "Start_Lng                        0\n",
       "End_Lat                     238123\n",
       "End_Lng                     238123\n",
       "Distance(mi)                     0\n",
       "Description                      0\n",
       "Number                     1657628\n",
       "Street                           0\n",
       "Side                             1\n",
       "City                            93\n",
       "County                           0\n",
       "Zipcode                          0\n",
       "Timezone                         0\n",
       "Airport_Code                     0\n",
       "Weather_Timestamp                0\n",
       "Temperature(F)                8843\n",
       "Humidity(%)                  12349\n",
       "Pressure(in)                 49314\n",
       "Visibility(mi)                6316\n",
       "Wind_Direction                  45\n",
       "Wind_Speed(mph)                  0\n",
       "Precipitation(in)                0\n",
       "Weather_Condition             3318\n",
       "Amenity                          0\n",
       "Bump                             0\n",
       "Crossing                         0\n",
       "Give_Way                         0\n",
       "Junction                         0\n",
       "No_Exit                          0\n",
       "Railway                          0\n",
       "Roundabout                       0\n",
       "Station                          0\n",
       "Stop                             0\n",
       "Traffic_Calming                  0\n",
       "Traffic_Signal                   0\n",
       "Turning_Loop                     0\n",
       "start_date                       0\n",
       "start_time                       0\n",
       "time_of_day                      0\n",
       "acdnt_per_day                    0\n",
       "state                            0\n",
       "avg_state_sev                    0\n",
       "avg_state_temp                   0\n",
       "avg_state_rain                   0\n",
       "avg_state_acdnt_per_day          0\n",
       "dtype: int64"
      ]
     },
     "execution_count": 7,
     "metadata": {},
     "output_type": "execute_result"
    }
   ],
   "source": [
    "#check for missing values. missing values still match to when addressed in initial cleaning\n",
    "traffic.isnull().sum()"
   ]
  },
  {
   "cell_type": "code",
   "execution_count": 8,
   "id": "aca8346f",
   "metadata": {},
   "outputs": [],
   "source": [
    "#remove missing Visibility(mi) values from data set\n",
    "traffic = traffic[traffic['Visibility(mi)'].isnull() == False]"
   ]
  },
  {
   "cell_type": "code",
   "execution_count": 9,
   "id": "5fbe3ab3",
   "metadata": {},
   "outputs": [],
   "source": [
    "#remove missing Temperature(F) values from data set\n",
    "traffic = traffic[traffic['Temperature(F)'].isnull() == False]"
   ]
  },
  {
   "cell_type": "code",
   "execution_count": 10,
   "id": "5dd14d5c",
   "metadata": {},
   "outputs": [],
   "source": [
    "#check for duplicates\n",
    "tr_dups = traffic.duplicated()"
   ]
  },
  {
   "cell_type": "code",
   "execution_count": 11,
   "id": "f84a976c",
   "metadata": {},
   "outputs": [
    {
     "data": {
      "text/plain": [
       "(2543663,)"
      ]
     },
     "execution_count": 11,
     "metadata": {},
     "output_type": "execute_result"
    }
   ],
   "source": [
    "tr_dups.shape #no duplicates"
   ]
  },
  {
   "cell_type": "code",
   "execution_count": 12,
   "id": "607b2554",
   "metadata": {},
   "outputs": [],
   "source": [
    "#check for extreme values in variables Visibility(mi) and time of accident, sev, and Temp to be tested"
   ]
  },
  {
   "cell_type": "code",
   "execution_count": 13,
   "id": "8497b609",
   "metadata": {},
   "outputs": [
    {
     "data": {
      "text/plain": [
       "<AxesSubplot:xlabel='Severity', ylabel='Count'>"
      ]
     },
     "execution_count": 13,
     "metadata": {},
     "output_type": "execute_result"
    },
    {
     "data": {
      "image/png": "[encoded data removed]",
      "text/plain": [
       "<Figure size 432x288 with 1 Axes>"
      ]
     },
     "metadata": {
      "needs_background": "light"
     },
     "output_type": "display_data"
    }
   ],
   "source": [
    "#histogram for Temp\n",
    "sns.histplot(traffic['Severity'], bins = 15)"
   ]
  },
  {
   "cell_type": "code",
   "execution_count": 14,
   "id": "5da71600",
   "metadata": {},
   "outputs": [
    {
     "name": "stdout",
     "output_type": "stream",
     "text": [
      "Sev_min 1\n",
      "Sev_mean 2.276311366717997\n",
      "Sev_max 4\n"
     ]
    }
   ],
   "source": [
    "#find min, mean, and max values for severity\n",
    "sev_min = traffic['Severity'].min()\n",
    "sev_mean = traffic['Severity'].mean()\n",
    "sev_max = traffic['Severity'].max()\n",
    "\n",
    "print('Sev_min',sev_min)\n",
    "print('Sev_mean',sev_mean)\n",
    "print('Sev_max',sev_max)"
   ]
  },
  {
   "cell_type": "code",
   "execution_count": 15,
   "id": "c85897f1",
   "metadata": {},
   "outputs": [
    {
     "data": {
      "text/plain": [
       "<AxesSubplot:xlabel='Temperature(F)', ylabel='Count'>"
      ]
     },
     "execution_count": 15,
     "metadata": {},
     "output_type": "execute_result"
    },
    {
     "data": {
      "image/png": "[encoded data removed]",
      "text/plain": [
       "<Figure size 432x288 with 1 Axes>"
      ]
     },
     "metadata": {
      "needs_background": "light"
     },
     "output_type": "display_data"
    }
   ],
   "source": [
    "#histogram for Temp\n",
    "sns.histplot(traffic['Temperature(F)'], bins = 15)"
   ]
  },
  {
   "cell_type": "code",
   "execution_count": 16,
   "id": "388dbb61",
   "metadata": {},
   "outputs": [
    {
     "name": "stdout",
     "output_type": "stream",
     "text": [
      "temp_min -58.0\n",
      "temp_mean 61.3918093709736\n",
      "temp_max 132.6\n"
     ]
    }
   ],
   "source": [
    "#find min, mean, and max values for temp\n",
    "temp_min = traffic['Temperature(F)'].min()\n",
    "temp_mean = traffic['Temperature(F)'].mean()\n",
    "temp_max = traffic['Temperature(F)'].max()\n",
    "\n",
    "print('temp_min',temp_min)\n",
    "print('temp_mean',temp_mean)\n",
    "print('temp_max',temp_max)"
   ]
  },
  {
   "cell_type": "code",
   "execution_count": 17,
   "id": "3eeafbaf",
   "metadata": {},
   "outputs": [
    {
     "data": {
      "text/plain": [
       "<AxesSubplot:xlabel='Visibility(mi)', ylabel='Count'>"
      ]
     },
     "execution_count": 17,
     "metadata": {},
     "output_type": "execute_result"
    },
    {
     "data": {
      "image/png": "[encoded data removed]",
      "text/plain": [
       "<Figure size 432x288 with 1 Axes>"
      ]
     },
     "metadata": {
      "needs_background": "light"
     },
     "output_type": "display_data"
    }
   ],
   "source": [
    "#histogram for Severity\n",
    "sns.histplot(traffic['Visibility(mi)'], bins = 15)"
   ]
  },
  {
   "cell_type": "code",
   "execution_count": 18,
   "id": "cde048d4",
   "metadata": {},
   "outputs": [
    {
     "name": "stdout",
     "output_type": "stream",
     "text": [
      "Vis_min 0.0\n",
      "Vis_mean 9.191096493521739\n",
      "Vis_max 111.0\n"
     ]
    }
   ],
   "source": [
    "#find min, mean, and max values for visibility\n",
    "Vis_min = traffic['Visibility(mi)'].min()\n",
    "Vis_mean = traffic['Visibility(mi)'].mean()\n",
    "Vis_max = traffic['Visibility(mi)'].max()\n",
    "\n",
    "print('Vis_min',Vis_min)\n",
    "print('Vis_mean',Vis_mean)\n",
    "print('Vis_max',Vis_max)"
   ]
  },
  {
   "cell_type": "markdown",
   "id": "037d1858",
   "metadata": {},
   "source": [
    "While it looks like there are extreme values for visibility. My research has been unable to specify which of the definitions for visibility are being used in this data and what an appropriate maximum should be."
   ]
  },
  {
   "cell_type": "code",
   "execution_count": 19,
   "id": "2d83403b",
   "metadata": {},
   "outputs": [],
   "source": [
    "#convert Start_Time into a new float column start_time_float that displays time as a number\n",
    "traffic['Start_Time'] = pd.to_datetime(traffic['Start_Time'])\n",
    "traffic['start_time_float'] = traffic['Start_Time'].dt.hour + traffic['Start_Time'].dt.minute/60 + traffic['Start_Time'].dt.second/3600"
   ]
  },
  {
   "cell_type": "code",
   "execution_count": 20,
   "id": "6e4c78ea",
   "metadata": {},
   "outputs": [
    {
     "data": {
      "text/html": [
       "<div>\n",
       "<style scoped>\n",
       "    .dataframe tbody tr th:only-of-type {\n",
       "        vertical-align: middle;\n",
       "    }\n",
       "\n",
       "    .dataframe tbody tr th {\n",
       "        vertical-align: top;\n",
       "    }\n",
       "\n",
       "    .dataframe thead th {\n",
       "        text-align: right;\n",
       "    }\n",
       "</style>\n",
       "<table border=\"1\" class=\"dataframe\">\n",
       "  <thead>\n",
       "    <tr style=\"text-align: right;\">\n",
       "      <th></th>\n",
       "      <th>ID</th>\n",
       "      <th>Severity</th>\n",
       "      <th>Start_Time</th>\n",
       "      <th>End_Time</th>\n",
       "      <th>Start_Lat</th>\n",
       "      <th>Start_Lng</th>\n",
       "      <th>End_Lat</th>\n",
       "      <th>End_Lng</th>\n",
       "      <th>Distance(mi)</th>\n",
       "      <th>Description</th>\n",
       "      <th>Number</th>\n",
       "      <th>Street</th>\n",
       "      <th>Side</th>\n",
       "      <th>City</th>\n",
       "      <th>County</th>\n",
       "      <th>Zipcode</th>\n",
       "      <th>Timezone</th>\n",
       "      <th>Airport_Code</th>\n",
       "      <th>Weather_Timestamp</th>\n",
       "      <th>Temperature(F)</th>\n",
       "      <th>Humidity(%)</th>\n",
       "      <th>Pressure(in)</th>\n",
       "      <th>Visibility(mi)</th>\n",
       "      <th>Wind_Direction</th>\n",
       "      <th>Wind_Speed(mph)</th>\n",
       "      <th>Precipitation(in)</th>\n",
       "      <th>Weather_Condition</th>\n",
       "      <th>Amenity</th>\n",
       "      <th>Bump</th>\n",
       "      <th>Crossing</th>\n",
       "      <th>Give_Way</th>\n",
       "      <th>Junction</th>\n",
       "      <th>No_Exit</th>\n",
       "      <th>Railway</th>\n",
       "      <th>Roundabout</th>\n",
       "      <th>Station</th>\n",
       "      <th>Stop</th>\n",
       "      <th>Traffic_Calming</th>\n",
       "      <th>Traffic_Signal</th>\n",
       "      <th>Turning_Loop</th>\n",
       "      <th>start_date</th>\n",
       "      <th>start_time</th>\n",
       "      <th>time_of_day</th>\n",
       "      <th>acdnt_per_day</th>\n",
       "      <th>state</th>\n",
       "      <th>avg_state_sev</th>\n",
       "      <th>avg_state_temp</th>\n",
       "      <th>avg_state_rain</th>\n",
       "      <th>avg_state_acdnt_per_day</th>\n",
       "      <th>start_time_float</th>\n",
       "    </tr>\n",
       "  </thead>\n",
       "  <tbody>\n",
       "    <tr>\n",
       "      <th>0</th>\n",
       "      <td>A-1</td>\n",
       "      <td>2</td>\n",
       "      <td>2019-05-21 08:29:55</td>\n",
       "      <td>2019-05-21 09:29:40</td>\n",
       "      <td>34.808868</td>\n",
       "      <td>-82.269157</td>\n",
       "      <td>34.808868</td>\n",
       "      <td>-82.269157</td>\n",
       "      <td>0.0</td>\n",
       "      <td>Accident on Tanner Rd at Pennbrooke Ln.</td>\n",
       "      <td>439.0</td>\n",
       "      <td>Tanner Rd</td>\n",
       "      <td>R</td>\n",
       "      <td>Greenville</td>\n",
       "      <td>Greenville</td>\n",
       "      <td>29607-6027</td>\n",
       "      <td>US/Eastern</td>\n",
       "      <td>KGMU</td>\n",
       "      <td>2019-05-21 08:53:00</td>\n",
       "      <td>76.0</td>\n",
       "      <td>52.0</td>\n",
       "      <td>28.91</td>\n",
       "      <td>10.0</td>\n",
       "      <td>N</td>\n",
       "      <td>7.0</td>\n",
       "      <td>0.0</td>\n",
       "      <td>Fair</td>\n",
       "      <td>False</td>\n",
       "      <td>False</td>\n",
       "      <td>False</td>\n",
       "      <td>False</td>\n",
       "      <td>False</td>\n",
       "      <td>False</td>\n",
       "      <td>False</td>\n",
       "      <td>False</td>\n",
       "      <td>False</td>\n",
       "      <td>False</td>\n",
       "      <td>False</td>\n",
       "      <td>False</td>\n",
       "      <td>False</td>\n",
       "      <td>2019-05-21</td>\n",
       "      <td>08:29:55</td>\n",
       "      <td>Morning</td>\n",
       "      <td>1693</td>\n",
       "      <td>South Carolina</td>\n",
       "      <td>2.172651</td>\n",
       "      <td>64.663102</td>\n",
       "      <td>0.006040</td>\n",
       "      <td>64.104680</td>\n",
       "      <td>8.498611</td>\n",
       "    </tr>\n",
       "    <tr>\n",
       "      <th>1</th>\n",
       "      <td>A-2</td>\n",
       "      <td>2</td>\n",
       "      <td>2019-10-07 17:43:09</td>\n",
       "      <td>2019-10-07 19:42:50</td>\n",
       "      <td>35.090080</td>\n",
       "      <td>-80.745560</td>\n",
       "      <td>35.090080</td>\n",
       "      <td>-80.745560</td>\n",
       "      <td>0.0</td>\n",
       "      <td>Accident on Houston Branch Rd at Providence Br...</td>\n",
       "      <td>3299.0</td>\n",
       "      <td>Providence Branch Ln</td>\n",
       "      <td>R</td>\n",
       "      <td>Charlotte</td>\n",
       "      <td>Mecklenburg</td>\n",
       "      <td>28270-8560</td>\n",
       "      <td>US/Eastern</td>\n",
       "      <td>KEQY</td>\n",
       "      <td>2019-10-07 17:53:00</td>\n",
       "      <td>76.0</td>\n",
       "      <td>62.0</td>\n",
       "      <td>29.30</td>\n",
       "      <td>10.0</td>\n",
       "      <td>VAR</td>\n",
       "      <td>3.0</td>\n",
       "      <td>0.0</td>\n",
       "      <td>Cloudy</td>\n",
       "      <td>False</td>\n",
       "      <td>False</td>\n",
       "      <td>False</td>\n",
       "      <td>False</td>\n",
       "      <td>False</td>\n",
       "      <td>False</td>\n",
       "      <td>False</td>\n",
       "      <td>False</td>\n",
       "      <td>False</td>\n",
       "      <td>False</td>\n",
       "      <td>False</td>\n",
       "      <td>False</td>\n",
       "      <td>False</td>\n",
       "      <td>2019-10-07</td>\n",
       "      <td>17:43:09</td>\n",
       "      <td>Evening</td>\n",
       "      <td>2450</td>\n",
       "      <td>North Carolina</td>\n",
       "      <td>2.147315</td>\n",
       "      <td>63.247137</td>\n",
       "      <td>0.006803</td>\n",
       "      <td>67.104506</td>\n",
       "      <td>17.719167</td>\n",
       "    </tr>\n",
       "    <tr>\n",
       "      <th>2</th>\n",
       "      <td>A-3</td>\n",
       "      <td>2</td>\n",
       "      <td>2020-12-13 21:53:00</td>\n",
       "      <td>2020-12-13 22:44:00</td>\n",
       "      <td>37.145730</td>\n",
       "      <td>-121.985052</td>\n",
       "      <td>37.165850</td>\n",
       "      <td>-121.988062</td>\n",
       "      <td>1.4</td>\n",
       "      <td>Stationary traffic on CA-17 from Summit Rd (CA...</td>\n",
       "      <td>NaN</td>\n",
       "      <td>Santa Cruz Hwy</td>\n",
       "      <td>R</td>\n",
       "      <td>Los Gatos</td>\n",
       "      <td>Santa Clara</td>\n",
       "      <td>95033</td>\n",
       "      <td>US/Pacific</td>\n",
       "      <td>KSJC</td>\n",
       "      <td>2020-12-13 21:53:00</td>\n",
       "      <td>51.0</td>\n",
       "      <td>80.0</td>\n",
       "      <td>30.17</td>\n",
       "      <td>10.0</td>\n",
       "      <td>W</td>\n",
       "      <td>6.0</td>\n",
       "      <td>0.0</td>\n",
       "      <td>Fair</td>\n",
       "      <td>False</td>\n",
       "      <td>False</td>\n",
       "      <td>False</td>\n",
       "      <td>False</td>\n",
       "      <td>False</td>\n",
       "      <td>False</td>\n",
       "      <td>False</td>\n",
       "      <td>False</td>\n",
       "      <td>False</td>\n",
       "      <td>False</td>\n",
       "      <td>False</td>\n",
       "      <td>False</td>\n",
       "      <td>False</td>\n",
       "      <td>2020-12-13</td>\n",
       "      <td>21:53:00</td>\n",
       "      <td>Night</td>\n",
       "      <td>5467</td>\n",
       "      <td>California</td>\n",
       "      <td>2.182810</td>\n",
       "      <td>64.206544</td>\n",
       "      <td>0.003010</td>\n",
       "      <td>361.961450</td>\n",
       "      <td>21.883333</td>\n",
       "    </tr>\n",
       "    <tr>\n",
       "      <th>3</th>\n",
       "      <td>A-4</td>\n",
       "      <td>2</td>\n",
       "      <td>2018-04-17 16:51:23</td>\n",
       "      <td>2018-04-17 17:50:46</td>\n",
       "      <td>39.110390</td>\n",
       "      <td>-119.773781</td>\n",
       "      <td>39.110390</td>\n",
       "      <td>-119.773781</td>\n",
       "      <td>0.0</td>\n",
       "      <td>Accident on US-395 Southbound at Topsy Ln.</td>\n",
       "      <td>NaN</td>\n",
       "      <td>US Highway 395 S</td>\n",
       "      <td>R</td>\n",
       "      <td>Carson City</td>\n",
       "      <td>Douglas</td>\n",
       "      <td>89705</td>\n",
       "      <td>US/Pacific</td>\n",
       "      <td>KCXP</td>\n",
       "      <td>2018-04-17 16:55:00</td>\n",
       "      <td>53.6</td>\n",
       "      <td>16.0</td>\n",
       "      <td>30.16</td>\n",
       "      <td>10.0</td>\n",
       "      <td>SSW</td>\n",
       "      <td>4.6</td>\n",
       "      <td>0.0</td>\n",
       "      <td>Clear</td>\n",
       "      <td>False</td>\n",
       "      <td>False</td>\n",
       "      <td>False</td>\n",
       "      <td>False</td>\n",
       "      <td>False</td>\n",
       "      <td>False</td>\n",
       "      <td>False</td>\n",
       "      <td>False</td>\n",
       "      <td>False</td>\n",
       "      <td>False</td>\n",
       "      <td>False</td>\n",
       "      <td>True</td>\n",
       "      <td>False</td>\n",
       "      <td>2018-04-17</td>\n",
       "      <td>16:51:23</td>\n",
       "      <td>Evening</td>\n",
       "      <td>1626</td>\n",
       "      <td>Nevada</td>\n",
       "      <td>2.346195</td>\n",
       "      <td>62.241654</td>\n",
       "      <td>0.001130</td>\n",
       "      <td>4.816372</td>\n",
       "      <td>16.856389</td>\n",
       "    </tr>\n",
       "    <tr>\n",
       "      <th>4</th>\n",
       "      <td>A-5</td>\n",
       "      <td>3</td>\n",
       "      <td>2016-08-31 17:40:49</td>\n",
       "      <td>2016-08-31 18:10:49</td>\n",
       "      <td>26.102942</td>\n",
       "      <td>-80.265091</td>\n",
       "      <td>26.102942</td>\n",
       "      <td>-80.265091</td>\n",
       "      <td>0.0</td>\n",
       "      <td>Accident on I-595 Westbound at Exit 4 / Pine I...</td>\n",
       "      <td>NaN</td>\n",
       "      <td>I-595 W</td>\n",
       "      <td>R</td>\n",
       "      <td>Fort Lauderdale</td>\n",
       "      <td>Broward</td>\n",
       "      <td>33324</td>\n",
       "      <td>US/Eastern</td>\n",
       "      <td>KHWO</td>\n",
       "      <td>2016-08-31 17:53:00</td>\n",
       "      <td>84.2</td>\n",
       "      <td>84.0</td>\n",
       "      <td>29.92</td>\n",
       "      <td>10.0</td>\n",
       "      <td>SSE</td>\n",
       "      <td>13.8</td>\n",
       "      <td>0.0</td>\n",
       "      <td>Overcast</td>\n",
       "      <td>False</td>\n",
       "      <td>False</td>\n",
       "      <td>False</td>\n",
       "      <td>False</td>\n",
       "      <td>True</td>\n",
       "      <td>False</td>\n",
       "      <td>False</td>\n",
       "      <td>False</td>\n",
       "      <td>False</td>\n",
       "      <td>False</td>\n",
       "      <td>False</td>\n",
       "      <td>True</td>\n",
       "      <td>False</td>\n",
       "      <td>2016-08-31</td>\n",
       "      <td>17:40:49</td>\n",
       "      <td>Evening</td>\n",
       "      <td>1250</td>\n",
       "      <td>Florida</td>\n",
       "      <td>2.238960</td>\n",
       "      <td>74.721026</td>\n",
       "      <td>0.008045</td>\n",
       "      <td>147.670296</td>\n",
       "      <td>17.680278</td>\n",
       "    </tr>\n",
       "  </tbody>\n",
       "</table>\n",
       "</div>"
      ],
      "text/plain": [
       "    ID  Severity          Start_Time             End_Time  Start_Lat  \\\n",
       "0  A-1         2 2019-05-21 08:29:55  2019-05-21 09:29:40  34.808868   \n",
       "1  A-2         2 2019-10-07 17:43:09  2019-10-07 19:42:50  35.090080   \n",
       "2  A-3         2 2020-12-13 21:53:00  2020-12-13 22:44:00  37.145730   \n",
       "3  A-4         2 2018-04-17 16:51:23  2018-04-17 17:50:46  39.110390   \n",
       "4  A-5         3 2016-08-31 17:40:49  2016-08-31 18:10:49  26.102942   \n",
       "\n",
       "    Start_Lng    End_Lat     End_Lng  Distance(mi)  \\\n",
       "0  -82.269157  34.808868  -82.269157           0.0   \n",
       "1  -80.745560  35.090080  -80.745560           0.0   \n",
       "2 -121.985052  37.165850 -121.988062           1.4   \n",
       "3 -119.773781  39.110390 -119.773781           0.0   \n",
       "4  -80.265091  26.102942  -80.265091           0.0   \n",
       "\n",
       "                                         Description  Number  \\\n",
       "0            Accident on Tanner Rd at Pennbrooke Ln.   439.0   \n",
       "1  Accident on Houston Branch Rd at Providence Br...  3299.0   \n",
       "2  Stationary traffic on CA-17 from Summit Rd (CA...     NaN   \n",
       "3         Accident on US-395 Southbound at Topsy Ln.     NaN   \n",
       "4  Accident on I-595 Westbound at Exit 4 / Pine I...     NaN   \n",
       "\n",
       "                 Street Side             City       County     Zipcode  \\\n",
       "0             Tanner Rd    R       Greenville   Greenville  29607-6027   \n",
       "1  Providence Branch Ln    R        Charlotte  Mecklenburg  28270-8560   \n",
       "2        Santa Cruz Hwy    R        Los Gatos  Santa Clara       95033   \n",
       "3      US Highway 395 S    R      Carson City      Douglas       89705   \n",
       "4               I-595 W    R  Fort Lauderdale      Broward       33324   \n",
       "\n",
       "     Timezone Airport_Code    Weather_Timestamp  Temperature(F)  Humidity(%)  \\\n",
       "0  US/Eastern         KGMU  2019-05-21 08:53:00            76.0         52.0   \n",
       "1  US/Eastern         KEQY  2019-10-07 17:53:00            76.0         62.0   \n",
       "2  US/Pacific         KSJC  2020-12-13 21:53:00            51.0         80.0   \n",
       "3  US/Pacific         KCXP  2018-04-17 16:55:00            53.6         16.0   \n",
       "4  US/Eastern         KHWO  2016-08-31 17:53:00            84.2         84.0   \n",
       "\n",
       "   Pressure(in)  Visibility(mi) Wind_Direction  Wind_Speed(mph)  \\\n",
       "0         28.91            10.0              N              7.0   \n",
       "1         29.30            10.0            VAR              3.0   \n",
       "2         30.17            10.0              W              6.0   \n",
       "3         30.16            10.0            SSW              4.6   \n",
       "4         29.92            10.0            SSE             13.8   \n",
       "\n",
       "   Precipitation(in) Weather_Condition  Amenity   Bump  Crossing  Give_Way  \\\n",
       "0                0.0              Fair    False  False     False     False   \n",
       "1                0.0            Cloudy    False  False     False     False   \n",
       "2                0.0              Fair    False  False     False     False   \n",
       "3                0.0             Clear    False  False     False     False   \n",
       "4                0.0          Overcast    False  False     False     False   \n",
       "\n",
       "   Junction  No_Exit  Railway  Roundabout  Station   Stop  Traffic_Calming  \\\n",
       "0     False    False    False       False    False  False            False   \n",
       "1     False    False    False       False    False  False            False   \n",
       "2     False    False    False       False    False  False            False   \n",
       "3     False    False    False       False    False  False            False   \n",
       "4      True    False    False       False    False  False            False   \n",
       "\n",
       "   Traffic_Signal  Turning_Loop  start_date start_time time_of_day  \\\n",
       "0           False         False  2019-05-21   08:29:55     Morning   \n",
       "1           False         False  2019-10-07   17:43:09     Evening   \n",
       "2           False         False  2020-12-13   21:53:00       Night   \n",
       "3            True         False  2018-04-17   16:51:23     Evening   \n",
       "4            True         False  2016-08-31   17:40:49     Evening   \n",
       "\n",
       "   acdnt_per_day           state  avg_state_sev  avg_state_temp  \\\n",
       "0           1693  South Carolina       2.172651       64.663102   \n",
       "1           2450  North Carolina       2.147315       63.247137   \n",
       "2           5467      California       2.182810       64.206544   \n",
       "3           1626          Nevada       2.346195       62.241654   \n",
       "4           1250         Florida       2.238960       74.721026   \n",
       "\n",
       "   avg_state_rain  avg_state_acdnt_per_day  start_time_float  \n",
       "0        0.006040                64.104680          8.498611  \n",
       "1        0.006803                67.104506         17.719167  \n",
       "2        0.003010               361.961450         21.883333  \n",
       "3        0.001130                 4.816372         16.856389  \n",
       "4        0.008045               147.670296         17.680278  "
      ]
     },
     "execution_count": 20,
     "metadata": {},
     "output_type": "execute_result"
    }
   ],
   "source": [
    "#check that time values are correct\n",
    "traffic.head()"
   ]
  },
  {
   "cell_type": "code",
   "execution_count": 21,
   "id": "56acbd08",
   "metadata": {},
   "outputs": [
    {
     "data": {
      "text/plain": [
       "<AxesSubplot:xlabel='start_time_float', ylabel='Count'>"
      ]
     },
     "execution_count": 21,
     "metadata": {},
     "output_type": "execute_result"
    },
    {
     "data": {
      "image/png": "[encoded data removed]",
      "text/plain": [
       "<Figure size 432x288 with 1 Axes>"
      ]
     },
     "metadata": {
      "needs_background": "light"
     },
     "output_type": "display_data"
    }
   ],
   "source": [
    "#histogram for start_time\n",
    "sns.histplot(traffic['start_time_float'], bins = 24)"
   ]
  },
  {
   "cell_type": "code",
   "execution_count": 22,
   "id": "1c9cdce2",
   "metadata": {},
   "outputs": [
    {
     "name": "stdout",
     "output_type": "stream",
     "text": [
      "time_min 0.0\n",
      "time_mean 12.902742825558141\n",
      "time_max 23.999722222222225\n"
     ]
    }
   ],
   "source": [
    "#find min, mean, and max values for start_time\n",
    "time_min = traffic['start_time_float'].min()\n",
    "time_mean = traffic['start_time_float'].mean()\n",
    "time_max = traffic['start_time_float'].max()\n",
    "\n",
    "print('time_min',time_min)\n",
    "print('time_mean',time_mean)\n",
    "print('time_max',time_max)"
   ]
  },
  {
   "cell_type": "markdown",
   "id": "b3950efb",
   "metadata": {},
   "source": [
    "### 3\n",
    "Data prep for regression analysis"
   ]
  },
  {
   "cell_type": "code",
   "execution_count": 23,
   "id": "6976f55f",
   "metadata": {},
   "outputs": [
    {
     "data": {
      "image/png": "[encoded data removed]",
      "text/plain": [
       "<Figure size 432x288 with 1 Axes>"
      ]
     },
     "metadata": {
      "needs_background": "light"
     },
     "output_type": "display_data"
    }
   ],
   "source": [
    "#create scatter plot of temp and severity variables to recheck correlation\n",
    "traffic.plot(x = 'Temperature(F)', y = 'Severity', style = 'o')\n",
    "plt.title('Temp by Severity')\n",
    "plt.ylabel('Sev')\n",
    "plt.xlabel('Temp')\n",
    "plt.show()\n",
    "#unclear on density but low sev accidents do have higher temp"
   ]
  },
  {
   "cell_type": "code",
   "execution_count": 24,
   "id": "ad06551e",
   "metadata": {},
   "outputs": [],
   "source": [
    "#reshape X and y variables into NumPy arrays\n",
    "X2=traffic['Temperature(F)'].values.reshape(-1,1)\n",
    "y2=traffic['Severity'].values.reshape(-1,1)"
   ]
  },
  {
   "cell_type": "code",
   "execution_count": 25,
   "id": "809084e3",
   "metadata": {},
   "outputs": [],
   "source": [
    "#split data into 70% training and 30% test data\n",
    "X2_train, X2_test, y2_train, y2_test = train_test_split(X2,y2,test_size=0.3, random_state = 0)"
   ]
  },
  {
   "cell_type": "code",
   "execution_count": 26,
   "id": "47599d07",
   "metadata": {},
   "outputs": [
    {
     "data": {
      "image/png": "[encoded data removed]",
      "text/plain": [
       "<Figure size 432x288 with 1 Axes>"
      ]
     },
     "metadata": {
      "needs_background": "light"
     },
     "output_type": "display_data"
    }
   ],
   "source": [
    "#create scatter plot of start_time_float and Visibility(mi) variables to recheck correlation\n",
    "traffic.plot(x = 'start_time_float', y = 'Visibility(mi)', style = 'o')\n",
    "plt.title('Visibility(mi) by Time of Day Accident Occured')\n",
    "plt.ylabel('Visibility(mi)')\n",
    "plt.xlabel('Time of Accident')\n",
    "plt.show()\n",
    "#unclear correlation but highest visbility does look to occur in middle of day"
   ]
  },
  {
   "cell_type": "code",
   "execution_count": 27,
   "id": "5d4d925c",
   "metadata": {},
   "outputs": [],
   "source": [
    "#reshape X and y variables into NumPy arrays\n",
    "X=traffic['start_time_float'].values.reshape(-1,1)\n",
    "y=traffic['Visibility(mi)'].values.reshape(-1,1)"
   ]
  },
  {
   "cell_type": "code",
   "execution_count": 28,
   "id": "6e37fe8d",
   "metadata": {},
   "outputs": [],
   "source": [
    "#split data into 70% training and 30% test data\n",
    "X_train, X_test, y_train, y_test = train_test_split(X,y,test_size=0.3, random_state = 0)"
   ]
  },
  {
   "cell_type": "markdown",
   "id": "e247d625",
   "metadata": {},
   "source": [
    "### 4\n",
    "Regression hypothesis\n",
    "For Temp and Severity:\n",
    "I expect there to be a negative correlation with severity and temperature. As temperature rises out of freezing/snowy levels then crashes will be less severe.\n",
    "\n",
    "Null Hypothesis = The increase in Temperature will have no effect on the Severity of accidents.\n",
    "\n",
    "Alternative Hypothesis = The increase in temperature will be inversely proportional to the increase in severity. The majority of severity 4 accidents will occur below the Temp mean of 61.1 and the majority of Severity 1 accidents will occur above the Temp mean.\n",
    "\n",
    "For visibility and time of day:\n",
    "I expect there to be a positive correlation between visibility and the time of day. While visbility appears to peak at mid day the density of dots is not clear and I suspect more values later in the day with higher visibility.\n",
    "\n",
    "Null Hypothesis = The increase in the hour of the day will have no effect on the visibility distance.\n",
    "\n",
    "Alternative Hypothesis = Visbility distance will increase linearly as the hour of the day increases from below the visbility average of 9.2 before noon to above 9.2 after noon."
   ]
  },
  {
   "cell_type": "markdown",
   "id": "60ac2c10",
   "metadata": {},
   "source": [
    "### 5\n",
    "Regression analysis (vis and time)"
   ]
  },
  {
   "cell_type": "code",
   "execution_count": 29,
   "id": "8eda30f5",
   "metadata": {},
   "outputs": [],
   "source": [
    "#create regression object\n",
    "regression = LinearRegression()"
   ]
  },
  {
   "cell_type": "code",
   "execution_count": 30,
   "id": "9603475d",
   "metadata": {},
   "outputs": [
    {
     "data": {
      "text/plain": [
       "LinearRegression()"
      ]
     },
     "execution_count": 30,
     "metadata": {},
     "output_type": "execute_result"
    }
   ],
   "source": [
    "#fit training data to regression object\n",
    "regression.fit(X_train, y_train)"
   ]
  },
  {
   "cell_type": "code",
   "execution_count": 31,
   "id": "9dde4291",
   "metadata": {},
   "outputs": [],
   "source": [
    "#predict values of y (Severity) based on the x_test data fit into the model\n",
    "y_predicted_by_model = regression.predict(X_test)"
   ]
  },
  {
   "cell_type": "code",
   "execution_count": 32,
   "id": "85329566",
   "metadata": {},
   "outputs": [
    {
     "data": {
      "image/png": "[encoded data removed]",
      "text/plain": [
       "<Figure size 432x288 with 1 Axes>"
      ]
     },
     "metadata": {
      "needs_background": "light"
     },
     "output_type": "display_data"
    }
   ],
   "source": [
    "#plot the scatter of X and y test values with the line of X test and y predicted\n",
    "plot_test = plt\n",
    "plot_test.scatter(X_test, y_test, color='black', s = 10)\n",
    "plot_test.plot(X_test, y_predicted_by_model, color='red', linewidth =3)\n",
    "plt.title('Test Visibility by Time of Day and Predicted Visibility')\n",
    "plt.ylabel('Visibility(mi)')\n",
    "plt.xlabel('Time of Accident')\n",
    "plt.show()"
   ]
  },
  {
   "cell_type": "code",
   "execution_count": 33,
   "id": "fc251fc4",
   "metadata": {},
   "outputs": [],
   "source": [
    "#find the summary statistics for the model\n",
    "slope = regression.coef_\n",
    "mse = mean_squared_error(y_test, y_predicted_by_model)\n",
    "r2 = r2_score(y_test, y_predicted_by_model)"
   ]
  },
  {
   "cell_type": "code",
   "execution_count": 34,
   "id": "b6fcde7c",
   "metadata": {},
   "outputs": [
    {
     "name": "stdout",
     "output_type": "stream",
     "text": [
      "slope/coefficient [[0.03712787]]\n",
      "mean squared error 7.324297359586046\n",
      "r squared 0.006003079509881326\n"
     ]
    }
   ],
   "source": [
    "#print summary stats\n",
    "print('slope/coefficient', slope)\n",
    "print('mean squared error', mse)\n",
    "print('r squared', r2)"
   ]
  },
  {
   "cell_type": "code",
   "execution_count": 35,
   "id": "9d1eedd5",
   "metadata": {},
   "outputs": [
    {
     "data": {
      "text/html": [
       "<div>\n",
       "<style scoped>\n",
       "    .dataframe tbody tr th:only-of-type {\n",
       "        vertical-align: middle;\n",
       "    }\n",
       "\n",
       "    .dataframe tbody tr th {\n",
       "        vertical-align: top;\n",
       "    }\n",
       "\n",
       "    .dataframe thead th {\n",
       "        text-align: right;\n",
       "    }\n",
       "</style>\n",
       "<table border=\"1\" class=\"dataframe\">\n",
       "  <thead>\n",
       "    <tr style=\"text-align: right;\">\n",
       "      <th></th>\n",
       "      <th>Actual</th>\n",
       "      <th>Predicted</th>\n",
       "    </tr>\n",
       "  </thead>\n",
       "  <tbody>\n",
       "    <tr>\n",
       "      <th>0</th>\n",
       "      <td>10.00</td>\n",
       "      <td>9.413687</td>\n",
       "    </tr>\n",
       "    <tr>\n",
       "      <th>1</th>\n",
       "      <td>10.00</td>\n",
       "      <td>9.137559</td>\n",
       "    </tr>\n",
       "    <tr>\n",
       "      <th>2</th>\n",
       "      <td>10.00</td>\n",
       "      <td>9.442008</td>\n",
       "    </tr>\n",
       "    <tr>\n",
       "      <th>3</th>\n",
       "      <td>3.00</td>\n",
       "      <td>9.308956</td>\n",
       "    </tr>\n",
       "    <tr>\n",
       "      <th>4</th>\n",
       "      <td>10.00</td>\n",
       "      <td>8.982860</td>\n",
       "    </tr>\n",
       "    <tr>\n",
       "      <th>5</th>\n",
       "      <td>1.50</td>\n",
       "      <td>9.032209</td>\n",
       "    </tr>\n",
       "    <tr>\n",
       "      <th>6</th>\n",
       "      <td>10.00</td>\n",
       "      <td>9.259999</td>\n",
       "    </tr>\n",
       "    <tr>\n",
       "      <th>7</th>\n",
       "      <td>0.25</td>\n",
       "      <td>8.891432</td>\n",
       "    </tr>\n",
       "    <tr>\n",
       "      <th>8</th>\n",
       "      <td>10.00</td>\n",
       "      <td>9.042883</td>\n",
       "    </tr>\n",
       "    <tr>\n",
       "      <th>9</th>\n",
       "      <td>10.00</td>\n",
       "      <td>8.930004</td>\n",
       "    </tr>\n",
       "    <tr>\n",
       "      <th>10</th>\n",
       "      <td>10.00</td>\n",
       "      <td>8.948692</td>\n",
       "    </tr>\n",
       "    <tr>\n",
       "      <th>11</th>\n",
       "      <td>10.00</td>\n",
       "      <td>8.778038</td>\n",
       "    </tr>\n",
       "    <tr>\n",
       "      <th>12</th>\n",
       "      <td>10.00</td>\n",
       "      <td>9.419370</td>\n",
       "    </tr>\n",
       "    <tr>\n",
       "      <th>13</th>\n",
       "      <td>10.00</td>\n",
       "      <td>8.964017</td>\n",
       "    </tr>\n",
       "    <tr>\n",
       "      <th>14</th>\n",
       "      <td>10.00</td>\n",
       "      <td>9.248520</td>\n",
       "    </tr>\n",
       "    <tr>\n",
       "      <th>15</th>\n",
       "      <td>10.00</td>\n",
       "      <td>9.083105</td>\n",
       "    </tr>\n",
       "    <tr>\n",
       "      <th>16</th>\n",
       "      <td>10.00</td>\n",
       "      <td>9.356655</td>\n",
       "    </tr>\n",
       "    <tr>\n",
       "      <th>17</th>\n",
       "      <td>10.00</td>\n",
       "      <td>9.123987</td>\n",
       "    </tr>\n",
       "    <tr>\n",
       "      <th>18</th>\n",
       "      <td>10.00</td>\n",
       "      <td>9.169737</td>\n",
       "    </tr>\n",
       "    <tr>\n",
       "      <th>19</th>\n",
       "      <td>10.00</td>\n",
       "      <td>9.282523</td>\n",
       "    </tr>\n",
       "  </tbody>\n",
       "</table>\n",
       "</div>"
      ],
      "text/plain": [
       "    Actual  Predicted\n",
       "0    10.00   9.413687\n",
       "1    10.00   9.137559\n",
       "2    10.00   9.442008\n",
       "3     3.00   9.308956\n",
       "4    10.00   8.982860\n",
       "5     1.50   9.032209\n",
       "6    10.00   9.259999\n",
       "7     0.25   8.891432\n",
       "8    10.00   9.042883\n",
       "9    10.00   8.930004\n",
       "10   10.00   8.948692\n",
       "11   10.00   8.778038\n",
       "12   10.00   9.419370\n",
       "13   10.00   8.964017\n",
       "14   10.00   9.248520\n",
       "15   10.00   9.083105\n",
       "16   10.00   9.356655\n",
       "17   10.00   9.123987\n",
       "18   10.00   9.169737\n",
       "19   10.00   9.282523"
      ]
     },
     "execution_count": 35,
     "metadata": {},
     "output_type": "execute_result"
    }
   ],
   "source": [
    "#create dataframe that compares the y_test and the y_predicted values\n",
    "y_compare = pd.DataFrame({'Actual':y_test.flatten(),'Predicted':y_predicted_by_model.flatten()})\n",
    "y_compare.head(20)"
   ]
  },
  {
   "cell_type": "code",
   "execution_count": 36,
   "id": "0b11ef7c",
   "metadata": {},
   "outputs": [
    {
     "name": "stdout",
     "output_type": "stream",
     "text": [
      "ypredict_min 9.60224540591572\n",
      "ypredict_max 8.711207361542298\n"
     ]
    }
   ],
   "source": [
    "ypredict_min = y_predicted_by_model.max()\n",
    "ypredict_max = y_predicted_by_model.min()\n",
    "\n",
    "print('ypredict_min', ypredict_min)\n",
    "print('ypredict_max', ypredict_max)"
   ]
  },
  {
   "cell_type": "markdown",
   "id": "615e96be",
   "metadata": {},
   "source": [
    "The slope indicates that visibility increases a very very small amount as the day goes. \n",
    "\n",
    "For the range of values in visibilty (0-140) indicates that the  mean squared error is fairly low. However the denisty of data with low visibility values and a slope of near 0 may have just forced the model to effectively predict that visbility will always be 8.7 - 9.6 miles.\n",
    "\n",
    "The r squared value indicates the relationship between time of day and visibility is near 0 and the line is a poor fit. This falls pretty close in line with the null hypothesis that there is no relationship. I suspect a different type of regression( like a curve)could better model what appears to be an increase in visibility in the middle of the day.\n",
    "\n",
    "I dont believe there is any reason for concern of bias in the model. But with a linear model the prediction will consistently be that vsibility will be more than adequate for safety on average."
   ]
  },
  {
   "cell_type": "markdown",
   "id": "d7e99dc5",
   "metadata": {},
   "source": [
    "Regression analysis (temp and sev)"
   ]
  },
  {
   "cell_type": "code",
   "execution_count": 37,
   "id": "03d3d01b",
   "metadata": {},
   "outputs": [],
   "source": [
    "#create regression object\n",
    "regression2 = LinearRegression()"
   ]
  },
  {
   "cell_type": "code",
   "execution_count": 38,
   "id": "5df38532",
   "metadata": {},
   "outputs": [
    {
     "data": {
      "text/plain": [
       "LinearRegression()"
      ]
     },
     "execution_count": 38,
     "metadata": {},
     "output_type": "execute_result"
    }
   ],
   "source": [
    "#fit training data to regression object\n",
    "regression2.fit(X2_train, y2_train)"
   ]
  },
  {
   "cell_type": "code",
   "execution_count": 39,
   "id": "aac849c2",
   "metadata": {},
   "outputs": [],
   "source": [
    "#predict values of y (Severity) based on the x_test data fit into the model\n",
    "y2_predicted_by_model = regression2.predict(X2_test)"
   ]
  },
  {
   "cell_type": "code",
   "execution_count": 40,
   "id": "a0cb1998",
   "metadata": {},
   "outputs": [
    {
     "data": {
      "image/png": "[encoded data removed]",
      "text/plain": [
       "<Figure size 432x288 with 1 Axes>"
      ]
     },
     "metadata": {
      "needs_background": "light"
     },
     "output_type": "display_data"
    }
   ],
   "source": [
    "#plot the scatter of X and y test values with the line of X test and y predicted\n",
    "plot_test = plt\n",
    "plot_test.scatter(X2_test, y2_test, color='black', s = 10)\n",
    "plot_test.plot(X2_test, y2_predicted_by_model, color='red', linewidth =3)\n",
    "plt.title('Test Temp by Severity and Predicted Severity')\n",
    "plt.ylabel('Severity')\n",
    "plt.xlabel('Temp')\n",
    "plt.show()"
   ]
  },
  {
   "cell_type": "code",
   "execution_count": 41,
   "id": "747e5676",
   "metadata": {},
   "outputs": [],
   "source": [
    "#find the summary statistics for the model\n",
    "slope2 = regression.coef_\n",
    "mse2 = mean_squared_error(y2_test, y2_predicted_by_model)\n",
    "r22 = r2_score(y2_test, y2_predicted_by_model)"
   ]
  },
  {
   "cell_type": "code",
   "execution_count": 42,
   "id": "b76be4a2",
   "metadata": {},
   "outputs": [
    {
     "name": "stdout",
     "output_type": "stream",
     "text": [
      "slope/coefficient [[0.03712787]]\n",
      "mean squared error 0.30014820323768515\n",
      "r squared 3.3307370546076243e-06\n"
     ]
    }
   ],
   "source": [
    "#print summary stats\n",
    "print('slope/coefficient', slope2)\n",
    "print('mean squared error', mse2)\n",
    "print('r squared', r22)"
   ]
  },
  {
   "cell_type": "code",
   "execution_count": 43,
   "id": "d8c7020f",
   "metadata": {},
   "outputs": [
    {
     "data": {
      "text/html": [
       "<div>\n",
       "<style scoped>\n",
       "    .dataframe tbody tr th:only-of-type {\n",
       "        vertical-align: middle;\n",
       "    }\n",
       "\n",
       "    .dataframe tbody tr th {\n",
       "        vertical-align: top;\n",
       "    }\n",
       "\n",
       "    .dataframe thead th {\n",
       "        text-align: right;\n",
       "    }\n",
       "</style>\n",
       "<table border=\"1\" class=\"dataframe\">\n",
       "  <thead>\n",
       "    <tr style=\"text-align: right;\">\n",
       "      <th></th>\n",
       "      <th>Actual</th>\n",
       "      <th>Predicted</th>\n",
       "    </tr>\n",
       "  </thead>\n",
       "  <tbody>\n",
       "    <tr>\n",
       "      <th>0</th>\n",
       "      <td>2</td>\n",
       "      <td>2.275416</td>\n",
       "    </tr>\n",
       "    <tr>\n",
       "      <th>1</th>\n",
       "      <td>2</td>\n",
       "      <td>2.276406</td>\n",
       "    </tr>\n",
       "    <tr>\n",
       "      <th>2</th>\n",
       "      <td>2</td>\n",
       "      <td>2.275523</td>\n",
       "    </tr>\n",
       "    <tr>\n",
       "      <th>3</th>\n",
       "      <td>3</td>\n",
       "      <td>2.275355</td>\n",
       "    </tr>\n",
       "    <tr>\n",
       "      <th>4</th>\n",
       "      <td>4</td>\n",
       "      <td>2.275303</td>\n",
       "    </tr>\n",
       "    <tr>\n",
       "      <th>5</th>\n",
       "      <td>2</td>\n",
       "      <td>2.275937</td>\n",
       "    </tr>\n",
       "    <tr>\n",
       "      <th>6</th>\n",
       "      <td>2</td>\n",
       "      <td>2.276646</td>\n",
       "    </tr>\n",
       "    <tr>\n",
       "      <th>7</th>\n",
       "      <td>2</td>\n",
       "      <td>2.275386</td>\n",
       "    </tr>\n",
       "    <tr>\n",
       "      <th>8</th>\n",
       "      <td>2</td>\n",
       "      <td>2.276103</td>\n",
       "    </tr>\n",
       "    <tr>\n",
       "      <th>9</th>\n",
       "      <td>2</td>\n",
       "      <td>2.276348</td>\n",
       "    </tr>\n",
       "    <tr>\n",
       "      <th>10</th>\n",
       "      <td>2</td>\n",
       "      <td>2.275192</td>\n",
       "    </tr>\n",
       "    <tr>\n",
       "      <th>11</th>\n",
       "      <td>2</td>\n",
       "      <td>2.275910</td>\n",
       "    </tr>\n",
       "    <tr>\n",
       "      <th>12</th>\n",
       "      <td>2</td>\n",
       "      <td>2.276627</td>\n",
       "    </tr>\n",
       "    <tr>\n",
       "      <th>13</th>\n",
       "      <td>2</td>\n",
       "      <td>2.275548</td>\n",
       "    </tr>\n",
       "    <tr>\n",
       "      <th>14</th>\n",
       "      <td>3</td>\n",
       "      <td>2.277179</td>\n",
       "    </tr>\n",
       "    <tr>\n",
       "      <th>15</th>\n",
       "      <td>2</td>\n",
       "      <td>2.276268</td>\n",
       "    </tr>\n",
       "    <tr>\n",
       "      <th>16</th>\n",
       "      <td>2</td>\n",
       "      <td>2.276765</td>\n",
       "    </tr>\n",
       "    <tr>\n",
       "      <th>17</th>\n",
       "      <td>2</td>\n",
       "      <td>2.276713</td>\n",
       "    </tr>\n",
       "    <tr>\n",
       "      <th>18</th>\n",
       "      <td>2</td>\n",
       "      <td>2.276572</td>\n",
       "    </tr>\n",
       "    <tr>\n",
       "      <th>19</th>\n",
       "      <td>2</td>\n",
       "      <td>2.275744</td>\n",
       "    </tr>\n",
       "  </tbody>\n",
       "</table>\n",
       "</div>"
      ],
      "text/plain": [
       "    Actual  Predicted\n",
       "0        2   2.275416\n",
       "1        2   2.276406\n",
       "2        2   2.275523\n",
       "3        3   2.275355\n",
       "4        4   2.275303\n",
       "5        2   2.275937\n",
       "6        2   2.276646\n",
       "7        2   2.275386\n",
       "8        2   2.276103\n",
       "9        2   2.276348\n",
       "10       2   2.275192\n",
       "11       2   2.275910\n",
       "12       2   2.276627\n",
       "13       2   2.275548\n",
       "14       3   2.277179\n",
       "15       2   2.276268\n",
       "16       2   2.276765\n",
       "17       2   2.276713\n",
       "18       2   2.276572\n",
       "19       2   2.275744"
      ]
     },
     "execution_count": 43,
     "metadata": {},
     "output_type": "execute_result"
    }
   ],
   "source": [
    "#create dataframe that compares the y_test and the y_predicted values\n",
    "y_compare2 = pd.DataFrame({'Actual':y2_test.flatten(),'Predicted':y2_predicted_by_model.flatten()})\n",
    "y_compare2.head(20)"
   ]
  },
  {
   "cell_type": "code",
   "execution_count": 44,
   "id": "7590d687",
   "metadata": {},
   "outputs": [
    {
     "name": "stdout",
     "output_type": "stream",
     "text": [
      "ypredict_min2 2.2777857704329607\n",
      "ypredict_max2 2.2737026436515038\n"
     ]
    }
   ],
   "source": [
    "ypredict_min2 = y2_predicted_by_model.max()\n",
    "ypredict_max2 = y2_predicted_by_model.min()\n",
    "\n",
    "print('ypredict_min2', ypredict_min2)\n",
    "print('ypredict_max2', ypredict_max2)"
   ]
  },
  {
   "cell_type": "markdown",
   "id": "6b0a65b9",
   "metadata": {},
   "source": [
    "The slope/coefficient [[0.03738762]] of nearly 0 indicates there is little to no change to Severity in relation to Temperature. In fact it very slightly increases as temp does.\n",
    "\n",
    "mean squared error 0.3062182690852363 is acutally somewhat large in this range of 1-4. This does make sense as the mean of severity is 2.2 and 2 values occur the most. The model would be expected to say your expected to get 2.2 and any error will just be a refelction of how likely something other than a 2 is. \n",
    "\n",
    "r squared 4.072818624134555e-06 is effectively 0. Just a very poor fit."
   ]
  },
  {
   "cell_type": "markdown",
   "id": "4a9ec507",
   "metadata": {},
   "source": [
    "### 6\n",
    "Export data"
   ]
  },
  {
   "cell_type": "code",
   "execution_count": 45,
   "id": "708f3151",
   "metadata": {},
   "outputs": [],
   "source": [
    "#export data\n",
    "traffic.to_csv(os.path.join(path, 'Prepared', 'v4_data_post_lin_regression.csv'))"
   ]
  },
  {
   "cell_type": "code",
   "execution_count": null,
   "id": "22b28c81",
   "metadata": {},
   "outputs": [],
   "source": []
  },
  {
   "cell_type": "code",
   "execution_count": null,
   "id": "ff58b6dc",
   "metadata": {},
   "outputs": [],
   "source": []
  }
 ],
 "metadata": {
  "kernelspec": {
   "display_name": "Python 3",
   "language": "python",
   "name": "python3"
  },
  "language_info": {
   "codemirror_mode": {
    "name": "ipython",
    "version": 3
   },
   "file_extension": ".py",
   "mimetype": "text/x-python",
   "name": "python",
   "nbconvert_exporter": "python",
   "pygments_lexer": "ipython3",
   "version": "3.8.8"
  }
 },
 "nbformat": 4,
 "nbformat_minor": 5
}
